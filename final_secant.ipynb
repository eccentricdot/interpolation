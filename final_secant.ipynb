{
 "cells": [
  {
   "cell_type": "code",
   "execution_count": 2,
   "id": "489ba73e",
   "metadata": {},
   "outputs": [
    {
     "name": "stdout",
     "output_type": "stream",
     "text": [
      "Root found: 0.6931471805599452\n",
      "f(p) = -2.220446049250313e-16\n",
      "Number of iterations: 7\n"
     ]
    }
   ],
   "source": [
    "import numpy as np\n",
    "\n",
    "def f(x):\n",
    "    return np.exp(x) - 2\n",
    "\n",
    "def secant_method(func, x0, x1, tol=1e-12, max_iter=100):\n",
    "    iterations = 0\n",
    "    x_values = []\n",
    "    errors = []\n",
    "\n",
    "    while iterations < max_iter:\n",
    "        x_values.append(x1)\n",
    "        error = np.abs(func(x1))\n",
    "\n",
    "        errors.append(error)\n",
    "\n",
    "        if error < tol:\n",
    "            break\n",
    "\n",
    "        x2 = x1 - (func(x1) * (x1 - x0)) / (func(x1) - func(x0))\n",
    "\n",
    "        x0, x1 = x1, x2\n",
    "\n",
    "        iterations += 1\n",
    "\n",
    "    return x_values, errors\n",
    "\n",
    "# Initial guesses for the secant method\n",
    "x0 = 0\n",
    "x1 = 0.5\n",
    "\n",
    "# Call the secant method\n",
    "roots, errors = secant_method(f, x0, x1, tol=1e-12)\n",
    "\n",
    "# Print the results\n",
    "if errors[-1] < 1e-12:\n",
    "    print(f\"Root found: {roots[-1]}\")\n",
    "    print(f\"f(p) = {f(roots[-1])}\")\n",
    "    print(f\"Number of iterations: {len(roots)}\")\n",
    "else:\n",
    "    print(\"Secant method did not converge within the specified tolerance.\")\n"
   ]
  }
 ],
 "metadata": {
  "kernelspec": {
   "display_name": "Python 3 (ipykernel)",
   "language": "python",
   "name": "python3"
  },
  "language_info": {
   "codemirror_mode": {
    "name": "ipython",
    "version": 3
   },
   "file_extension": ".py",
   "mimetype": "text/x-python",
   "name": "python",
   "nbconvert_exporter": "python",
   "pygments_lexer": "ipython3",
   "version": "3.11.4"
  }
 },
 "nbformat": 4,
 "nbformat_minor": 5
}
